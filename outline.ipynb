{
 "cells": [
  {
   "cell_type": "code",
   "execution_count": 2,
   "metadata": {},
   "outputs": [],
   "source": [
    "# Import required libraries\n",
    "\n",
    "import torch\n",
    "import torch.nn as nn\n",
    "import numpy as np\n",
    "import pandas as pd\n",
    "import matplotlib.pyplot as plt\n",
    "import torchvision.datasets as datasets\n",
    "import torchvision.transforms as transforms\n",
    "import matplotlib.pyplot as plt\n",
    "\n",
    "# from tqdm.auto import trange, tqdm\n",
    "\n",
    "# Import utility functions and model classes from custom modules\n",
    "from utils import get_simple_data_train, display_equation, train, get_data, get_test_preds_and_smx, get_scores, quantile, get_pred_sets, mean_set_size, get_test_accuracy, train_model, conformal_prediction_regression, tensor_to_img\n",
    "from utils_plot import plot_generic, plot_predictions, histogram_plot, show_samples, plot_conformal_prediction\n",
    "from model import MLP, MLP1\n",
    "\n",
    "# Set random seeds for reproducibility\n",
    "torch.manual_seed(42)\n",
    "np.random.seed(42)"
   ]
  },
  {
   "cell_type": "code",
   "execution_count": 3,
   "metadata": {},
   "outputs": [],
   "source": [
    "def get_simple_data_train(coef_1, coef_2, coef_3, coef_4, n_cal):\n",
    "    print(\"running simple data\")\n",
    "    # Generate data points for the custom function with some noise\n",
    "    x = np.linspace(-.2, 0.7, 150)\n",
    "    eps = coef_4 * np.random.randn(x.shape[0])\n",
    "    y = coef_1 * np.sin(2 * np.pi*(x)) + coef_2 * np.cos(4 * np.pi *(x)) + coef_3 * x+ eps\n",
    "    x = torch.from_numpy(x).float()[:, None]\n",
    "    y = torch.from_numpy(y).float()\n",
    "    print(\"running regression data\")\n",
    "    # Split data into calibration and training sets\n",
    "    cal_idx = np.random.choice(x.shape[0], n_cal, replace=False)\n",
    "    mask = np.zeros(len(x), dtype=bool)\n",
    "    mask[cal_idx] = True\n",
    "    x_cal, y_cal = x[mask], y[mask]\n",
    "    x_train, y_train = x[~mask], y[~mask]\n",
    "    return x_train, y_train, x_cal, y_cal"
   ]
  },
  {
   "cell_type": "code",
   "execution_count": 4,
   "metadata": {},
   "outputs": [],
   "source": [
    "def plot_generic(_x_train, _y_train, _x_cal, _y_cal, _add_to_plot=None, coef_1=0.3, coef_2=0.02, coef_3=0.1, coef_4=0.02):\n",
    "    print(\"running plot_generic\")\n",
    "    fig, ax = plt.subplots(figsize=(10, 5))\n",
    "    plt.xlim([-.5, 1.5])\n",
    "    plt.ylim([-1.5, 2.5])\n",
    "    plt.xlabel(\"X\", fontsize=30)\n",
    "    plt.ylabel(\"Y\", fontsize=30)\n",
    "    plt.title(\"Plot of Training and Calibration Data with True Function\", fontsize=20)\n",
    "\n",
    "    # Generate true function curve\n",
    "    x_true = np.linspace(-.5, 1.5, 1000)\n",
    "    y_true = coef_1 * np.sin(2 * np.pi * x_true) + coef_2 * np.cos(4 * np.pi * x_true) + coef_3 * x_true\n",
    "    # print(_x_train.shape, _y_train.shape, _x_cal.shape, _y_cal.shape)\n",
    "\n",
    "    # Plot training data as green scatter points\n",
    "    ax.scatter(_x_train, _y_train, c='green', s=10, label=\"training data\")\n",
    "\n",
    "    # Plot calibration data as red scatter points\n",
    "    ax.scatter(_x_cal, _y_cal, c='red', s=10, label=\"calibration data\")\n",
    "\n",
    "    # Plot the true function as a blue line\n",
    "    ax.plot(x_true, y_true, 'b-', linewidth=3, label=\"true function\")\n",
    "\n",
    "    # If additional plot elements are provided, add them using the '_add_to_plot' function\n",
    "    if _add_to_plot is not None:\n",
    "        _add_to_plot(ax)\n",
    "\n",
    "    # Add a legend to the plot\n",
    "    plt.legend(loc='best', fontsize=15, frameon=False)\n",
    "\n",
    "    return fig, ax"
   ]
  },
  {
   "cell_type": "code",
   "execution_count": null,
   "metadata": {},
   "outputs": [],
   "source": []
  }
 ],
 "metadata": {
  "kernelspec": {
   "display_name": "conform",
   "language": "python",
   "name": "python3"
  },
  "language_info": {
   "codemirror_mode": {
    "name": "ipython",
    "version": 3
   },
   "file_extension": ".py",
   "mimetype": "text/x-python",
   "name": "python",
   "nbconvert_exporter": "python",
   "pygments_lexer": "ipython3",
   "version": "3.11.4"
  },
  "orig_nbformat": 4
 },
 "nbformat": 4,
 "nbformat_minor": 2
}
